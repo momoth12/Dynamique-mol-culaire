{
 "cells": [
  {
   "cell_type": "markdown",
   "metadata": {},
   "source": [
    "### Modal SNA MAP473D, Ecole Polytechnique, 2022-23"
   ]
  },
  {
   "cell_type": "markdown",
   "metadata": {},
   "source": [
    "# TP4 - Processus de Poisson : transformation de Esscher, splitting et MCMC\n",
    "\n",
    "\n",
    "Soumission du TP pour évaluation:\n",
    "\n",
    "    Remplir ce notebook et déposer sur le moodle le fichier notebook \".ipynb\" ainsi qu'une sauvegarde (export) au format \".html\".\n",
    "    Les réponses aux questions théoriques peuvent soit être saisies (en latex) dans le notebook; un (seul) fichier au format .pdf contenant le scan de vos réponses manuscrites est aussi accepté.\n",
    "    Les dépôts sur le moodle doivent être faits avant le vendredi 31 mars, 18h"
   ]
  },
  {
   "cell_type": "markdown",
   "metadata": {},
   "source": [
    "**Noms du binôme :** Mouhamadou Lamine Thiaw et Faraji Ossama"
   ]
  },
  {
   "cell_type": "markdown",
   "metadata": {},
   "source": [
    "$\\def\\R{\\mathbb{R}}$\n",
    "$\\def\\E{\\mathbb{E}}$\n",
    "$\\def\\P{\\mathbb{P}}$\n",
    "$\\def\\eqdef{:=}$\n",
    "\n",
    "Quelques rappels en python :\n",
    "\n",
    "- `random.exponential` du module `numpy`. Pour la simulation de v.a. exponentielles. <font color='blue'>Attention à la convention sur les paramètres</font>.\n",
    "- `random.poisson` du module `numpy`. Pour la simulation de v.a. de Poisson.\n",
    "- `poisson.sf` du module `scipy.stats`. Pour la fonction de survie d'une v.a. de Poisson.\n",
    "- `random.standard_cauchy` du module `numpy`. Pour la simulation de v.a. de Cauchy standards.\n",
    "- `cumsum` du module `numpy`.  Pour le calcul de la somme cumulée des éléments d'un tableau.\n",
    "- `sort` du module `numpy`. Pour ordonner les éléments d'un tableau.\n",
    "- `boxplot` du module `matplotlib.pyplot`. Pour tracer des boîtes à moustaches (boxplots).\n",
    "\n",
    "Représentation d'un array `numpy` par un <b>boxplot</b> :  affichage d'une boîte rectangulaire délimitée par les premier et troisième quartiles ; la  barre intérieure (rouge) donne la médiane ; la \"moustache\" inférieure va jusqu'à la valeur la plus petite située entre le premier quartile et 1.5 fois la hauteur de la boîte; la \"moustache\" supérieure va jusqu'à la valeur le plus grande située entre le troisième quartile et 1.5 fois la hauteur de la boîte. Les éventuels points de l'échantillon au-delà des moustaches sont représentés par des \"+\"."
   ]
  },
  {
   "cell_type": "markdown",
   "metadata": {},
   "source": [
    "## 1. Simulation d'un processus  de Poisson homogène et composé"
   ]
  },
  {
   "cell_type": "markdown",
   "metadata": {},
   "source": [
    "### 1.1. Rappels : Processus de Poisson\n",
    "\n",
    "\n",
    "Soit $\\lambda >0$.\n",
    "Un <b>processus de Poisson homogène de paramètre $\\lambda$</b> est un processus\n",
    "$(N_t)_{t\\geq 0}$ issu de $0$, à accroissement indépendants, tel que pour tout\n",
    "$0 \\leq s < t$, $N_t-N_s$ suit une loi de Poisson de paramètre $\\lambda(t-s)$.\n",
    "\n",
    "Ce processus peut être obtenu en posant\n",
    "$$N_t = \\textrm{Card}\\{k\\geq 1~: T_k\\leq t\\} = \\sum_{k \\geq 1} \\mathbf{1}_{T_k \\leq t};$$\n",
    "par convention, $T_0 =0$ et pour tout $k \\geq 1$,  $T_k= T_{k-1} + E_k$,  pour des v.a. $(E_i)_{i \\geq 1}$ i.i.d. de loi exponentielle de paramètre $\\lambda$ : les durées \"inter-saut\"  $(T_k - T_{k-1})_{k \\geq 1}$ sont i.i.d. de loi exponentielle de paramètre $\\lambda$.\n",
    "\n",
    "Soit $\\lambda >0$ et $\\nu$ une loi de probabilité sur $\\mathbb{R}$. Un <b>processus\n",
    "  de Poisson composé de paramètres $(\\lambda, \\nu)$</b> est un processus $(X_t)_{t\\geq\n",
    "  0}$ défini par\n",
    "$$X_t = \\sum_{k=1}^{N_t} Y_k,$$\n",
    "où les sauts $(Y_k)_{k \\geq 1}$ sont des v.a. réelles i.i.d. de loi $\\nu$\n",
    "indépendantes de $(N_t)_{t \\geq 0}$, processus de Poisson homogène de paramètre\n",
    "$\\lambda$.\n"
   ]
  },
  {
   "cell_type": "markdown",
   "metadata": {},
   "source": [
    "### 1.2. Simulations d'un processus de Poisson "
   ]
  },
  {
   "cell_type": "markdown",
   "metadata": {},
   "source": [
    "##### Simulation d'une trajectoire sur $[0,T_n]$, $n$ fixé \n",
    "Utiliser le fait que \n",
    "$$N_t = \\begin{cases}0&\\textrm{pour $t\\in [0, T_1[$,}\\\\\n",
    "  1&\\textrm{pour $t\\in [T_1, T_2[$,}\\\\\n",
    "  2&\\textrm{pour $t\\in [T_2, T_3[$,}\\\\\n",
    "  \\vdots &\\quad\\vdots\\end{cases}$$\n",
    "et que les instants de sauts $(T_k)_{1\n",
    "  \\leq k \\leq n}$ s'expriment à l'aide de tirages de la loi exponentielle. "
   ]
  },
  {
   "cell_type": "markdown",
   "metadata": {},
   "source": [
    "#####  Simulation d'une trajectoire sur $[0,T]$, $T$ fixé \n",
    "Utiliser la loi de $N_T$ puis le fait que, conditionnellement à l'événement $\\{N_T = k \\}$, la loi des instants de sauts $(T_1, \\cdots, T_k)$ est la loi de $k$ v.a. uniformes sur $[0,T]$ ordonnées (cf. Amphi 3). \n",
    "\n",
    ">Pour l'affichage d'une fonction en escalier, on pourra utiliser la fonction `step` de `matplotlib.pyplot` (nous vous conseillons de consulter la documentation de cette fonction, notamment pour comprendre le rôle de son argument \"`where`\").  "
   ]
  },
  {
   "cell_type": "markdown",
   "metadata": {},
   "source": [
    "#### <span style=\"color:blue\">Question 1. </span> \n",
    "\n",
    "En utilisant ces deux approches, simuler et tracer sur une même figure  \n",
    "- une trajectoire d'un processus de Poisson homogène jusqu'à l'instant $T_n$ d'une part (pour $n\\ge 1$ fixé),  \n",
    "- et une trajectoire jusqu'à l'instant $T$ d'autre part (pour $T>0$ fixé).  \n",
    "\n",
    "On pourra par exemple prendre $n=30$, $\\lambda=3$ et $T=n/\\lambda=10$."
   ]
  },
  {
   "cell_type": "markdown",
   "metadata": {},
   "source": [
    "##### _Réponse :_"
   ]
  },
  {
   "cell_type": "code",
   "execution_count": 1,
   "metadata": {},
   "outputs": [
    {
     "data": {
      "image/png": "[encoded data removed]",
      "text/plain": [
       "<Figure size 1500x1000 with 1 Axes>"
      ]
     },
     "metadata": {},
     "output_type": "display_data"
    }
   ],
   "source": [
    "import numpy as np\n",
    "import scipy.stats as sps\n",
    "import matplotlib.pyplot as plt\n",
    "import random\n",
    "#print(\"Simulation d'une trajectoire sur $[0,T_n]$, $n$ fixé\") \n",
    "def N(n,l):\n",
    "    T_i,T=0,[]\n",
    "    for k in range(n):\n",
    "        T_i+=np.random.exponential(1/l)\n",
    "        T+=[T_i]\n",
    "    #print(len(T))\n",
    "    return T\n",
    "\n",
    "plt.figure(figsize=(15, 10))\n",
    "\n",
    "\n",
    "l=3\n",
    "n=30\n",
    "T=int(n/l)\n",
    "\n",
    "plt.step(N(n,l),np.arange(n),label=\"n fixé\")\n",
    "\n",
    "#print(\" Simulation à rebours.\")\n",
    "\n",
    "Nt=np.random.poisson(l*T)\n",
    "U=np.random.uniform(0,T,Nt)\n",
    "U.sort()\n",
    "plt.step(U,np.arange(Nt),c=\"r\",label=\"T fixé\")\n",
    "plt.title('simulation progressive et à rebours')\n",
    "plt.legend(loc=\"best\")\n",
    "plt.show()\n",
    "\n"
   ]
  },
  {
   "cell_type": "markdown",
   "metadata": {},
   "source": [
    "### 1.2. Simulations d'un processus de Poisson  composé"
   ]
  },
  {
   "cell_type": "markdown",
   "metadata": {},
   "source": [
    "#### <span style=\"color:blue\">Question 2. </span> \n",
    "Adapter le code précédent pour tracer deux trajectoires d'un processus de Poisson composé sur $[0,T]$ : pour la loi des sauts $(Y_k)_{k\\ge 1}$, on envisagera successivement \n",
    "* une loi exponentielle (par exemple de moyenne 2), \n",
    "* puis la loi de la valeur absolue d'une v.a. de Cauchy standard.  \n",
    "\n",
    "Quelle différence remarque-t-on dans la régularité de l'amplitude des sauts ? "
   ]
  },
  {
   "cell_type": "markdown",
   "metadata": {},
   "source": [
    "##### _Réponse :_"
   ]
  },
  {
   "cell_type": "code",
   "execution_count": null,
   "metadata": {},
   "outputs": [
    {
     "data": {
      "image/png": "[encoded data removed]",
      "text/plain": [
       "<Figure size 1500x1000 with 1 Axes>"
      ]
     },
     "metadata": {},
     "output_type": "display_data"
    }
   ],
   "source": [
    "plt.figure(figsize=(15, 10))\n",
    "\n",
    "plt.figure(1)\n",
    "S=np.cumsum(np.random.exponential(2,len(N(n,l))))\n",
    "temp=N(n,l)\n",
    "plt.step(temp,S,label = \"sauts exponentiels\")\n",
    "plt.title(\"Simulations d'un processus de Poisson composé\")\n",
    "\n",
    "C=np.cumsum(np.abs(np.random.standard_cauchy(len(temp))))\n",
    "plt.step(temp,C,c='r',label = \"sauts Cauchy standard\")\n",
    "plt.legend(loc=\"best\")\n",
    "\n",
    "plt.show()\n",
    "#plt.title(\"sauts Caucy standard\")"
   ]
  },
  {
   "cell_type": "markdown",
   "metadata": {},
   "source": [
    "On observe que les sauts du processus composé Cauchy sont plus irréguliers que ceux de la loi exponentielle. Nous inférons que cela est lié au fait que les variables de cauchy standard ne sont pas integrables, c'est à dire que leurs moyennes n'est pas bornée."
   ]
  },
  {
   "cell_type": "markdown",
   "metadata": {},
   "source": [
    "## 2. Changement de probabilité pour les processus de Poisson composés"
   ]
  },
  {
   "cell_type": "markdown",
   "metadata": {},
   "source": [
    "Soient $\\lambda >0$, $\\nu$ une loi de probabilité sur $\\R$, et $(\\Omega, \\mathcal{F}, \\P)$ un espace de probabilité.  \n",
    "\n",
    "Sous $\\P$ : les v.a. $(Y_k)_{k \\geq 1}$ sont i.i.d. de loi\n",
    "  $\\nu$ et indépendantes de $(N_t)_{t \\geq 0}$, processus de Poisson homogène\n",
    "  de paramètre $\\lambda$. Par suite, sous $\\P$, $$ \\tag{1} X_t : = \\sum_{k=1}^{N_t} Y_k$$ est un processus de Poisson composé de paramètres $(\\lambda, \\nu)$.  \n",
    "$\\E$ et $\\mathbb{V}$ désignent respectivement l'espérance et la variance sous $\\P$.\n",
    "\n",
    "####  Rappel de cours : la transformation de Esscher\n",
    "Pour toute fonction $f: \\mathbb{R} \\to \\mathbb{R}$ mesurable telle que $ \\mathbb{E}\\left[ \\exp(f(Y_1)) \\right]< \\infty$, on définit\n",
    "$$ \\lambda_f:= \\lambda  \\, \\mathbb{E}\\left[ \\exp(f(Y_1)) \\right] = \\lambda \\, \\int \\exp(f(y))  \\, \\nu(\\mathrm{d} y )  \\qquad \\nu_f(\\mathrm{d} y ) :=  \\frac{\\exp(f(y))}{\\mathbb{E}\\left[ \\exp(f(Y_1)) \\right]}\\, \\nu(\\mathrm{d} y ).\n",
    "$$\n",
    "\n",
    "Alors, nous avons pour toute fonction mesurable bornée $h: \\R \\to \\R$ et tout $t \\geq 0$ (voir Amphi 3)\n",
    "$$\\tag{2}\n",
    "\\E\\left[h(X_t) \\right] = \\exp\\left\\{ \\lambda t \\left(  \\mathbb{E}\\left[ \\exp(f(Y_1)) \\right]-1 \\right) \\right\\}  \\ \\E_f\\left[ h(X_t) \\ \\exp\\left\\{ - \\sum_{k=1}^{N_t} f(Y_k) \\right\\} \\right]\n",
    "$$\n",
    "où  sous $\\P_f$ :  les v.a. $(Y_k)_{k \\geq 1}$ sont i.i.d. de loi $\\nu_f$, indépendantes de $(N_t)_{t \\geq 0}$ qui est un processus de Poisson homogène de paramètre $\\lambda_f$. \n",
    " \n",
    "#### Dans toute la suite :  lois _penchées_\n",
    "Pour $\\theta \\in \\mathbb{R}$, considérons le changement de loi induit par la fonction \n",
    "$$ f_\\theta: y \\mapsto \\theta y,\n",
    "$$\n",
    "pour un réel $\\theta$ fixé.  \n",
    "\n",
    "On notera respectivement  $\\lambda_\\theta,\n",
    " \\nu_\\theta, \\P_\\theta$ les quantités $\\lambda_{f_\\theta}, \\nu_{f_\\theta}, \\P_{f_\\theta}$. Enfin,\n",
    " $\\mathbb{E}_\\theta$ désigne l'espérance sous $\\mathbb{P}_\\theta$.\n"
   ]
  },
  {
   "cell_type": "markdown",
   "metadata": {},
   "source": [
    "#### <span style=\"color:blue\">Question 3 (théorique). </span> \n",
    "\n",
    "Soit $T>0$. Pour tout $\\theta \\in \\mathbb{R}$, on définit \n",
    "$$\n",
    "\\Gamma(\\theta) : = \\log \\mathbb{E}\\left[\\exp\\left( \\theta X_T\\right) \\right].\n",
    "$$\n",
    "Noter que \n",
    "$$\n",
    "\\mathbb{E}[X_T] = \\Gamma'(0) \\qquad \\qquad \\mathbb{V}[X_T] = \\Gamma''(0)\n",
    "$$\n",
    "\n",
    "__a)__ En utilisant (2), donner l'expression en fonction de  $\\theta$ et $\\Gamma(\\theta)$, d'une fonction\n",
    "  $W_{\\theta}$ telle que pour toute fonction mesurable bornée $h :\\mathbb{R} \\rightarrow \\mathbb{R}$ on ait\n",
    "  \n",
    "$$\n",
    "\\tag{3}\n",
    "\\mathbb{E}\\left[ h(X_T) \\right] = \\mathbb{E}_\\theta \\left[ h(X_T) \\  W_{\\theta}(X_T)\\right].\n",
    "$$\n",
    "Par suite,  il vient \n",
    "$$\n",
    "\\mathbb{E}\\left[ h(X_T) \\frac{1}{W_{\\theta}(X_T)}\\right] = \\mathbb{E}_\\theta \\left[ h(X_T)\\right].\n",
    "$$\n",
    "__b)__ En déduire que \n",
    "$$\\mathbb{E}_\\theta[X_T] = \\Gamma'(\\theta).$$"
   ]
  },
  {
   "cell_type": "markdown",
   "metadata": {},
   "source": [
    "##### _Réponse :_"
   ]
  },
  {
   "cell_type": "markdown",
   "metadata": {},
   "source": [
    "#### Problème numérique :\n",
    "\n",
    "Les processus de Poisson composés sont souvent utilisés pour modéliser l'état de la comptabilité des compagnies d'assurance. En effet, si une compagnie d'assurance de capital initial $C$ reçoit à chaque unité de temps des cotisations d'une valeur de $\\Lambda$ et doit\n",
    "effectuer des dédommagements de loi $\\nu$ répartis dans le temps selon un processus de Poisson d'intensité $\\lambda$, alors ses liquidités, à toute date $t$,\n",
    "sont données par $$C+\\Lambda t-X_t,$$\n",
    "où $(X_t)_{t \\geq 0}$ est un processus de Poisson composé d'intensité $\\lambda$ et de sauts de loi $\\nu$ sur $\\mathbb{R}_+$. Afin d'éviter le risque de faillite, la compagnie d'assurance est alors amenée à évaluer $\\mathbb{P}(X_T>x)$ pour des valeurs de $x$ élevées.\n",
    "\n",
    "On s'intéresse au calcul de \n",
    "$$\n",
    "\\tag{3} I := \\mathbb{P}(X_T >x)\n",
    "$$ \n",
    "dans le cas où $\\nu$ est la mesure de Dirac en $\\alpha>0$, c'est-à-dire $\\mathbb{P}(Y_1 =\\alpha) =1$. Par suite, nous avons aussi\n",
    "$$\n",
    "I = \\mathbb{P}(N_T >x/\\alpha)\n",
    "$$ \n",
    "\n",
    "Les valeurs de $x$ qui rendent l'événement $\\{X_T>x\\}$ rare sous $\\mathbb{P}$\n",
    "  seront de la forme\n",
    "$$\n",
    "\\tag{4} x=\\mathbb{E}[X_T]+\\rho\\sqrt{\\mathbb{V}(X_T)} = \\alpha \\mathbb{E}[N_T]+ \\alpha \\rho\\sqrt{\\mathbb{V}(N_T)},$$\n",
    "pour $\\rho>0$ grand. "
   ]
  },
  {
   "cell_type": "markdown",
   "metadata": {},
   "source": [
    "#### <span style=\"color:blue\">Question 4 (théorique) : interprétation du changement de loi. </span> \n",
    "\n",
    "__a)__  Donner l'expression de $\\lambda_\\theta$ et $\\nu_\\theta$ en fonction de $\\lambda$, $\\alpha$ et $\\theta$.\n",
    "\n",
    "__b)__  Soit $\\theta \\neq 0$. Sous $\\mathbb{P}_\\theta$, la loi de $(N_t)_{t \\geq 0}$ et celle des $(Y_k)_k$  sont-elles changées et si oui, que deviennent-elles ? _Noter que le cas $\\theta =0$ correspond à la loi d'origine i.e. un poisson composé de paramètres $(\\lambda, \\nu)$._\n",
    "\n",
    "__c)__ Si l'on choisit $\\theta>0$, que favorise-t-on par ce changement de loi ? (de façon symétrique, que favorise-t-on en prenant $\\theta <0$ ?)\n",
    "\n",
    "__d)__  Donner l'expression de $\\Gamma(\\theta)$ en fonction de $\\alpha, \\theta$ et $T$. En déduire l'expression de l'espérance et de la variance de $X_T$ sous $\\mathbb{P}$, et de l'espérance de $X_T$ sous $\\mathbb{P}_\\theta$ -- en fonction de $\\alpha, \\theta$ et $T$.\n"
   ]
  },
  {
   "cell_type": "markdown",
   "metadata": {},
   "source": [
    "##### _Réponse :_"
   ]
  },
  {
   "cell_type": "markdown",
   "metadata": {},
   "source": [
    "#### <span style=\"color:blue\">Question 5 (théorique) : choix de $\\theta$. </span> \n",
    "\n",
    "__a)__ On rappelle que $x > \\E[X_T]$. En comparant $\\mathbb{E}[X_T]$ et  $\\mathbb{E}_\\theta[X_T]$ (voir question 4d)), conseilleriez-vous de prendre $\\theta>0$ ou $\\theta<0$ ?\n",
    "\n",
    "__b)__ Trouver $\\theta$ tel que $\\mathbb{E}_\\theta[X_T]=x$. On notera $\\theta_x$ cette solution. \n"
   ]
  },
  {
   "cell_type": "markdown",
   "metadata": {},
   "source": [
    "##### _Réponse :_"
   ]
  },
  {
   "cell_type": "markdown",
   "metadata": {},
   "source": [
    "#### <span style=\"color:blue\">Question 6 (théorique) : calcul du ratio d'importance et étude de l'estimateur IS. </span> \n",
    "\n",
    "__a)__ Donner l'expression d'un estimateur par échantillonnage d'importance $\\hat I_{*,M}$ basé sur $M$ simulations i.i.d. $X_T^{(k)}$ sous $\\mathbb{P}_\\theta$, de la quantité inconnue $I$ (voir (2)). \n",
    "\n",
    "__b)__  Montrer que $\\hat I_{*,M}$ est asymptotiquement normal, et donner une expression de la variance asymptotique en fonction d'espérances sous $\\mathbb{P}_\\theta$.\n",
    "\n",
    "On notera $\\sigma_*^2$ cette variance asymptotique. _cette variance ne peut pas être calculée de façon exacte_\n",
    "\n",
    "__c)__ Proposer un estimateur $\\hat\\sigma^2_{*,M}$ de cette variance construit à l'aide des $X_T^{(k)}$ et en déduire une estimation par intervalle de confiance asymptotique (au niveau $95\\%$) de $I$. "
   ]
  },
  {
   "cell_type": "markdown",
   "metadata": {},
   "source": [
    "##### _Réponse :_"
   ]
  },
  {
   "cell_type": "markdown",
   "metadata": {},
   "source": [
    "#### <span style=\"color:blue\">Question 7 </span> \n",
    "\n",
    "Comparer la méthode de Monte Carlo naïve et la méthode d'échantillonnage d'importance issue de la relation (3) lorsque $\\theta = \\theta_x$, valeur trouvée à la question 5 : \n",
    "\n",
    "__a)__  développer un code permettant d'observer la consistance des estimateurs \n",
    "\n",
    "__b)__ afficher une estimation de la quantité $I$ par intervalle de confiance asymptotique (de niveau $0.95$), pour chacune des deux méthodes. \n",
    "\n",
    "On prendra $T=1$, $\\lambda=1$, $\\nu= \\delta_\\alpha$ pour $\\alpha =0.5$; et $x$ donné par (4) tout d'abord pour $\\rho =1$, puis pour $\\rho=5$ et $\\rho =20$.\n",
    "\n",
    "__c)__ Qu'est-il attendu du comportement de l'estimateur Monte Carlo naïf lorsque $\\rho$ augmente ?"
   ]
  },
  {
   "cell_type": "code",
   "execution_count": null,
   "metadata": {},
   "outputs": [],
   "source": []
  },
  {
   "cell_type": "markdown",
   "metadata": {},
   "source": [
    "## 3. Méthode de splitting pour les modèles de Poisson"
   ]
  },
  {
   "cell_type": "markdown",
   "metadata": {},
   "source": [
    "### 3.1. Rappels de cours : méthode de splitting via MCMC"
   ]
  },
  {
   "cell_type": "markdown",
   "metadata": {},
   "source": [
    "Soit $\\mathbf{N} = (N_t)_{t \\geq 0}$ un processus de Poisson homogène de paramètre $\\lambda\n",
    "$ sous $\\mathbb{P}$. L'objectif est de calculer  la probabilité d'un événement rare de la forme\n",
    "$$\n",
    "\\mathbb{P}\\left( \\Phi(\\mathbf{N})\n",
    "\\leq a \\right)\n",
    "$$\n",
    "où \n",
    " $\\Phi(\\mathbf{N})$ désigne une fonctionnelle de la trajectoire du\n",
    "processus de Poisson $(N_t)_{t \\geq 0}$. \n",
    "\n",
    "\n",
    "\n",
    "La _méthode de splitting_ consiste à \n",
    "\n",
    "__(i)__ reformuler le problème en \n",
    "$$\n",
    "\\mathbb{P}\\left( \\Phi(\\mathbf{N})\n",
    "\\leq a \\right) = \\prod_{k=1}^K \\mathbb{P}\\left( \\Phi(\\mathbf{N})\n",
    "\\leq a_k  \\Big |  \\Phi(\\mathbf{N}) \\leq a_{k-1}  \\right)\n",
    "$$ \n",
    "en ayant choisi $K$ seuils vérifiant \n",
    "$$\n",
    "a_K:= a \\qquad a_0 := +\\infty \\qquad a_K < a_{K-1} < \\cdots < a_1 < a_0. \n",
    "$$\n",
    "\n",
    "__(ii)__  pour tout $k =1, \\cdots, K$, approcher $\\mathbb{P}\\left(\\Phi(\\mathbf{N}) \\leq a_{k}\n",
    "    \\vert \\Phi(\\mathbf{N}) \\leq a_{k-1} \\right)$ par un estimateur $\\hat{\\pi}_k$. \n",
    "    \n",
    "__(iii)__  estimer $\\mathbb{P}(\\Phi(\\mathbf{N}) \\leq a)$ par $\\prod_{k=1}^K \\hat{\\pi}_k$.\n",
    "\n",
    "\n",
    "\n",
    "Nous rappelons ci-dessous l'algorithme  *MCMC pour loi conditionnelle*  pour construire un estimateur $\\hat{\\pi}_k$. Cet algorithme produit une __suite de processus de Poisson__ $\\{\\mathbf{N}^\\ell, \\ell \\geq 0 \\}$, vérifiant une loi forte des grands nombres : pour tout $b \\in \\mathbb{R}$, on a\n",
    "$$\\frac{1}{M} \\sum_{\\ell=1}^M \\mathbf{1}_{\\Phi(\\mathbf{N}^\\ell) \\leq b}\n",
    " \\quad \\mathop{\\longrightarrow}^{\\mathrm{p.s.}}_{M \\rightarrow \\infty} \\quad  \\mathbb{P}\\left(\\Phi(\\mathbf{N}) \\leq b \\ \\vert\\ \\Phi(\\mathbf{N})\n",
    "  \\leq a_{k-1} \\right).$$\n",
    "Plus précisément, cet algorithme construit une chaîne de Markov $(\\mathbf{N}^\\ell)_{\\ell \\geq 0}$ à valeurs dans un espace de processus de Poisson, pour laquelle le théorème ergodique s'applique (pour plus de détails, on pourra consulter l'article [Rare event simulation using reversible shaking transformations](https://hal.archives-ouvertes.fr/hal-01058748/document)). \n",
    "\n",
    "<font color='magenta'><b> Algorithme MCMC pour approcher la loi conditionnelle $\\mathbb{P} (\\cdot\\ \\vert\\ \\Phi(\\mathbf{N})\\leq a_{k-1})$ par une réalisation d'une chaîne de Markov </b>  \n",
    "    \n",
    "- Paramètres d'implémentation : $p \\in ]0,1[$, $M \\in \\mathbb{N}$  \n",
    "- Initialisation : $\\mathbf{N}^{0}$ un processus de Poisson homogène de paramètre\n",
    "  $\\lambda$ tel que $\\Phi(\\mathbf{N}^0) \\leq a_{k-1}$.  \n",
    "- Pour $\\ell = 0, \\cdots, M-1$ : étant donné $\\mathbf{N}^{\\ell}$,  \n",
    "\n",
    "   (a) construire un candidat $\\widetilde{\\mathbf{N}}^{\\ell+1}$ par *coloriage*, c'est-à-dire : garder chaque saut de $\\mathbf{N}^\\ell$ avec probabilité $p$, de manière indépendante : on obtient $\\mathbf{N}^{\\ell,p}$ ; construire un processus de Poisson homogène $\\widetilde{\\mathbf{N}}$ de paramètre $(1-p) \\lambda$, indépendant de $\\mathbf{N}^{\\ell,p}$ ; renvoyer la somme $\\widetilde{\\mathbf{N}}^{\\ell+1} := \\mathbf{N}^{\\ell,p} + \\widetilde{\\mathbf{N}}$.  \n",
    "   \n",
    "   (b) si $\\Phi(\\widetilde{\\mathbf{N}}^{\\ell+1}) \\leq a_{k-1}$, poser $\\mathbf{N}^{\\ell+1} =\n",
    "    \\widetilde{\\mathbf{N}}^{\\ell+1}$. Sinon,  poser $\\mathbf{N}^{\\ell+1} = \\mathbf{N}^{\\ell}$.</font>\n",
    "\n",
    "\n",
    "\n",
    "On répète cet algorithme pour les valeurs de $k$ dans $\\{1, \\cdots, K\\}$. \n",
    "Pour chacune des $K$ chaînes simulées par cet algorithme, il est intéressant d'observer l'évolution du taux d'acceptation le long de la trajectoire\n",
    "$$M \\mapsto \\frac{1}{M} \\sum_{\\ell=1}^M \\mathbf{1}_{\\mathbf{N}^{\\ell} = \\widetilde{\\mathbf{N}^{\\ell}}}.$$\n",
    "Comme nous allons le voir, ce taux d'acceptation dépend du paramètre $p$.\n"
   ]
  },
  {
   "cell_type": "markdown",
   "metadata": {},
   "source": [
    "### 3.2. Application\n",
    "\n",
    "On reprend l'application décrite en Section 2.3, avec $\\nu=\\delta_\\alpha$."
   ]
  },
  {
   "cell_type": "markdown",
   "metadata": {},
   "source": [
    "#### <span style=\"color:blue\">Question 8</span> \n",
    "\n",
    "Montrer que, avec probabilité $1$, \n",
    "$$\\min_{0 \\leq t \\leq T} \\left\\{ C + \\Lambda t - \\alpha N_t \\right\\} = \\min_{n\n",
    "  \\geq 0 \\ \\text{t.q.} \\ T_n \\leq T} \\left\\{ C + \\Lambda T_n - \\alpha n\\right\\}.$$"
   ]
  },
  {
   "cell_type": "markdown",
   "metadata": {},
   "source": [
    "##### _Réponse :_"
   ]
  },
  {
   "cell_type": "markdown",
   "metadata": {},
   "source": [
    "#### <span style=\"color:blue\">Question 9</span> \n",
    "\n",
    "On veut estimer la probabilité de ruine de l'assurance avant l'instant $T$, c'est-à-dire :\n",
    "$$\\mathbb{P}\\left( \\min_{0 \\leq t \\leq T} \\left\\{ C + \\Lambda t - \\alpha N_t \\right\\}\n",
    "    \\leq 0 \\right).$$\n",
    "On prendra $T=1$, $C= 100$, $\\Lambda = 30$, $\\alpha=30$, $a_k = C (1-(k/K)^2)$ et\n",
    "   $(\\lambda,K) =(1,3)$ ou $(\\lambda, K) = (0.05,8)$. On envisagera différentes valeurs de $p$ : par exemple, on pourra comparer les résultats obtenus avec $p=0.1$, $p=0.5$ et $p=0.9$. \n",
    "\n",
    "__a)__ Implémenter l'algorithme de splitting combiné à l'algorithme *MCMC pour loi conditionnelle* pour estimer cette probabilité de ruine.  Pour un nombre $M$ d'itérations de la chaîne $\\# k$, nous notons $\\hat{\\pi}_{k,M}$ l'estimateur donné par \n",
    "$$\n",
    "\\hat{\\pi}_{k,M}:= \\frac{1}{M} \\sum_{\\ell=1}^M \\mathbf{1}_{\\Phi(\\mathbf{N}^{k,\\ell}) \\leq a_k} \\qquad \\qquad \\{\\mathbf{N}^{k,\\ell}, \\ell \\geq 1 \\} \\approx \\mathbb{P}\\left( \\Phi(\\mathbf{N}) \\in \\cdot \\vert \\Phi(\\mathbf{N}) \\leq a_{k-1} \\right).\n",
    "$$\n",
    "\n",
    "__b)__ Pour chaque valeur de $k =1, \\cdots, K$, observer la consistance des estimateurs $\\hat \\pi_{k,M}$.\n",
    "\n",
    "__c)__ Pour chaque valeur de $k =1, \\cdots, K$, afficher l'évolution du taux d'acceptation. \n",
    "\n",
    "__d)__ En vous appuyant sur les courbes tracées en questions a) et b), justifier le choix d'une valeur de $M$ et calculer un estimateur de la probabilité de ruine. \n",
    "\n",
    "_En plus du code que vous remettez, pensez à commenter dans votre rapport la façon dont vous choisissez $M$, le rôle de la probabilité $p$ sur l'efficacité de l'algorithme, ce que vous apporte d'observer le taux d'acceptation-rejet moyen, etc_\n"
   ]
  },
  {
   "cell_type": "markdown",
   "metadata": {},
   "source": [
    "##### _Réponse :_"
   ]
  },
  {
   "cell_type": "code",
   "execution_count": null,
   "metadata": {},
   "outputs": [],
   "source": []
  },
  {
   "cell_type": "markdown",
   "metadata": {},
   "source": [
    "#### <span style=\"color:blue\">Question 10</span> \n",
    "\n",
    "Considérons $(\\lambda,K) =(1,3)$, $M=1e3$ et $p\\in\\{0.1,0.2,\\dots,0.9\\}$ successivement. \n",
    "\n",
    "__a)__ Pour ces valeurs de $p$, illustrer par des boxplots la variabilité de l'estimateur de la probabilité de ruine à l'aide de plusieurs réalisations indépendantes de cet estimateur (par exemple 100). \n",
    "\n",
    "__b)__ Calculer aussi pour chaque valeur de $p$, le ratio de l'écart-type et de la valeur moyenne de ces réalisations indépendantes. \n",
    "\n",
    "__c)__ Quelles valeurs de 𝑝 préconiseriez-vous ? "
   ]
  },
  {
   "cell_type": "markdown",
   "metadata": {},
   "source": [
    "##### _Réponse :_"
   ]
  },
  {
   "cell_type": "code",
   "execution_count": null,
   "metadata": {},
   "outputs": [],
   "source": []
  }
 ],
 "metadata": {
  "kernelspec": {
   "display_name": "Python 3 (ipykernel)",
   "language": "python",
   "name": "python3"
  },
  "language_info": {
   "codemirror_mode": {
    "name": "ipython",
    "version": 3
   },
   "file_extension": ".py",
   "mimetype": "text/x-python",
   "name": "python",
   "nbconvert_exporter": "python",
   "pygments_lexer": "ipython3",
   "version": "3.9.13"
  }
 },
 "nbformat": 4,
 "nbformat_minor": 4
}
